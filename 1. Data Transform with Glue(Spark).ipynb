{
 "cells": [
  {
   "cell_type": "markdown",
   "metadata": {},
   "source": [
    "## Data Transform with Glue\n",
    "\n",
    "이번 실습에서는 AWS Glue를 활용하여 데이터를 로딩, 변환, 저장하는 기본적인 데이터 처리와 관련된 코드를 확인하고 직접 수행해 봅니다.\n",
    "이 노트북의 실행을 위해서는 Glue DevEndpoint 클러스터를 생성하고, SageMaker notebook 인스턴스를 연동한 환경 설정이 완료되어야 합니다. \n",
    "\n",
    "**[사전에 실습을 위한 데이터가 준비되지 않은 경우]**\n",
    "\n",
    "AWS Glue에서 s3://analytics-data-seung/e-commerce 경로의 S3 데이터를 크롤링해서 analytics-source 라는 이름으로 데이터베이스를 생성하면 코드 실행이 가능합니다. "
   ]
  },
  {
   "cell_type": "markdown",
   "metadata": {},
   "source": [
    "### Jupyter Notebook 기본 사용법\n",
    "* 명령줄 실행 : Ctrl + Enter\n",
    "* 명령줄 추가 : 편집창이 아닌 부분 선택하고 A(위에 추가) or B(아래 추가)\n",
    "* 정상적인 실행이 되지 않는 경우 Kernel 메뉴 - Restart Kernel 선택"
   ]
  },
  {
   "cell_type": "markdown",
   "metadata": {},
   "source": [
    "### Glue API를 활용하여 데이터 로딩하기\n",
    "아래 코드는 Glue에서 Job 생성시 기본 코드 템플릿에 포함된 부분입니다. \n",
    "노트북에서 Step by Step으로 진행하기 위해서 Job / Bookmark 관련된 일부 코드는 주석처리 하였습니다. \n",
    "\n",
    "기본적으로 데이터를 로딩하는 부분에서는 Glue의 API를 주로 사용하도록 합니다. Glue DynamicFrame에서는 대량의 파일을 로딩 / 적재 하는데 최적화된 API를 제공합니다.\n",
    "\n",
    "데이터 로딩 이후 데이터의 변환에는 Spark DataFrame를 기본적으로 사용합니다."
   ]
  },
  {
   "cell_type": "markdown",
   "metadata": {},
   "source": [
    "먼저 AWS Glue의 주요 라이브러리를 로딩하고 Spark 작업을 실행하기 위한 GlueContext를 생성합니다."
   ]
  },
  {
   "cell_type": "code",
   "execution_count": 1,
   "metadata": {},
   "outputs": [
    {
     "name": "stdout",
     "output_type": "stream",
     "text": [
      "Starting Spark application\n"
     ]
    },
    {
     "data": {
      "text/html": [
       "<table>\n",
       "<tr><th>ID</th><th>YARN Application ID</th><th>Kind</th><th>State</th><th>Spark UI</th><th>Driver log</th><th>Current session?</th></tr><tr><td>31</td><td>application_1558507935305_0032</td><td>pyspark</td><td>idle</td><td><a target=\"_blank\" href=\"http://ip-172-32-87-202.us-west-2.compute.internal:20888/proxy/application_1558507935305_0032/\">Link</a></td><td><a target=\"_blank\" href=\"http://ip-172-32-85-77.us-west-2.compute.internal:8042/node/containerlogs/container_1558507935305_0032_01_000001/livy\">Link</a></td><td>✔</td></tr></table>"
      ],
      "text/plain": [
       "<IPython.core.display.HTML object>"
      ]
     },
     "metadata": {},
     "output_type": "display_data"
    },
    {
     "name": "stdout",
     "output_type": "stream",
     "text": [
      "SparkSession available as 'spark'.\n"
     ]
    }
   ],
   "source": [
    "#import sys\n",
    "#from awsglue.transforms import *\n",
    "#from awsglue.utils import getResolvedOptions\n",
    "from pyspark.context import SparkContext\n",
    "from awsglue.context import GlueContext\n",
    "#from awsglue.job import Job\n",
    "\n",
    "glueContext = GlueContext(SparkContext.getOrCreate())"
   ]
  },
  {
   "cell_type": "code",
   "execution_count": 2,
   "metadata": {},
   "outputs": [
    {
     "name": "stdout",
     "output_type": "stream",
     "text": [
      "u'5120M'"
     ]
    }
   ],
   "source": [
    "spark.conf.get(\"spark.executor.memory\")\n",
    "#spark.conf.set(\"spakr.executor.memory\" \"8g\")"
   ]
  },
  {
   "cell_type": "markdown",
   "metadata": {},
   "source": [
    "**'spark'**라는 이름으로 스파크 세션을 얻어왔습니다. \n",
    "\n",
    "Glue Data Catalog에 있는 정보를 기반으로 테이블 데이터를 로딩합니다. 다음 코드가 동작하기 위해서는 앞단계에서 Glue Crawler를 통해 Database와 테이블을 생성해주어야 합니다. "
   ]
  },
  {
   "cell_type": "markdown",
   "metadata": {},
   "source": [
    "**[우리가 사용할 주요 데이터 소스의 위치를 지정해 줍니다. ]**\n",
    "\n",
    "* sourceDatabase = \"analytics-source\"\n",
    "* targetS3Bucket = \"s3://analytics-data-[자신의 ID]\" \n",
    "* targetDatabase = \"analytics-e-commerce\""
   ]
  },
  {
   "cell_type": "code",
   "execution_count": 3,
   "metadata": {},
   "outputs": [],
   "source": [
    "sourceDatabase = \"analytics-source\"\n",
    "targetS3Bucket = \"s3://analytics-data-seung\" \n",
    "targetDatabase = \"analytics-e-commerce\""
   ]
  },
  {
   "cell_type": "markdown",
   "metadata": {},
   "source": [
    "여러분이 앞쪽에서 Glue 크롤러를 통해 Data Catalog를 생성하였으면 아래에서 데이터베이스 목록과 테이블 목록을 확인할 수 있습니다. "
   ]
  },
  {
   "cell_type": "code",
   "execution_count": 4,
   "metadata": {},
   "outputs": [
    {
     "name": "stdout",
     "output_type": "stream",
     "text": [
      "+--------------------+\n",
      "|        databaseName|\n",
      "+--------------------+\n",
      "|analytics-e-commerce|\n",
      "|    analytics-source|\n",
      "|      datalab-aurora|\n",
      "|             default|\n",
      "|         legislators|\n",
      "|          quicksight|\n",
      "|     test-analytics2|\n",
      "+--------------------+"
     ]
    }
   ],
   "source": [
    "spark.sql(\"show databases\").show()"
   ]
  },
  {
   "cell_type": "code",
   "execution_count": 5,
   "metadata": {},
   "outputs": [
    {
     "name": "stdout",
     "output_type": "stream",
     "text": [
      "+----------------+-------------+-----------+\n",
      "|        database|    tableName|isTemporary|\n",
      "+----------------+-------------+-----------+\n",
      "|analytics-source|         item|      false|\n",
      "|analytics-source|item_category|      false|\n",
      "|analytics-source|       member|      false|\n",
      "|analytics-source|        order|      false|\n",
      "|analytics-source|   order_item|      false|\n",
      "+----------------+-------------+-----------+"
     ]
    }
   ],
   "source": [
    "#spark.sql(\"show tables from legislators\").show()\n",
    "#sqlContext.tables(\"database_name\").filter(\"tableName like '%abc%'\")\n",
    "#sqlContext.tables(\"analytics-source\").show()"
   ]
  },
  {
   "cell_type": "markdown",
   "metadata": {},
   "source": [
    "**order** 테이블은 우리가 앞에서 생성한 analytics-source 데이터베이스에 포함된 테이블 입니다. \n",
    "이후 데이터 변환 작업의 편의성을 위해서 Glue의 DynamicFrame을 DataFrame 형식으로 변경합니다. "
   ]
  },
  {
   "cell_type": "code",
   "execution_count": 6,
   "metadata": {},
   "outputs": [
    {
     "name": "stdout",
     "output_type": "stream",
     "text": [
      "Count:  6770255\n",
      "root\n",
      " |-- member_id: string (nullable = true)\n",
      " |-- order_date: string (nullable = true)\n",
      " |-- order_time: string (nullable = true)\n",
      " |-- shipping_date: string (nullable = true)\n",
      " |-- order_status: string (nullable = true)\n",
      " |-- country: string (nullable = true)\n",
      " |-- total_price: long (nullable = true)\n",
      " |-- city: string (nullable = true)\n",
      " |-- state: string (nullable = true)\n",
      " |-- postal_code: long (nullable = true)\n",
      " |-- region: string (nullable = true)\n",
      " |-- order_id: string (nullable = true)\n",
      "\n",
      "+---------+----------+-------------+-------------+------------+-------------+-----------+-------------+------------+-----------+------+--------------+\n",
      "|member_id|order_date|   order_time|shipping_date|order_status|      country|total_price|         city|       state|postal_code|region|      order_id|\n",
      "+---------+----------+-------------+-------------+------------+-------------+-----------+-------------+------------+-----------+------+--------------+\n",
      "| ND-18370|2019-02-04|  2/4/19 7:11|   2019-02-05|     shipped|United States|         53|   Long Beach|    New York|      11561|  East|CA-2016-130778|\n",
      "| KH-16330|2018-01-20| 1/20/18 6:47|   2018-01-21|     shipped|United States|        921|       Newark|        Ohio|      43055|  East|CA-2017-128944|\n",
      "| SP-20860|2019-06-11|6/11/19 23:52|   2019-06-12|     shipped|United States|        832| Philadelphia|Pennsylvania|      19134|  East|US-2015-126753|\n",
      "| DC-12850|2018-10-10|10/10/18 3:12|   2018-10-11|     shipped|United States|        320|    Cleveland|        Ohio|      44105|  East|CA-2016-130911|\n",
      "| TT-21460|2019-02-06| 2/6/19 12:23|   2019-02-07|     shipped|United States|          6|San Francisco|  California|      94110|  West|CA-2017-158736|\n",
      "+---------+----------+-------------+-------------+------------+-------------+-----------+-------------+------------+-----------+------+--------------+\n",
      "only showing top 5 rows"
     ]
    }
   ],
   "source": [
    "order = glueContext.create_dynamic_frame.from_catalog(database=sourceDatabase, table_name=\"order\").toDF()\n",
    "#print \"Count: \", order.count()\n",
    "order.printSchema()\n",
    "order.show(5)"
   ]
  },
  {
   "cell_type": "markdown",
   "metadata": {},
   "source": [
    "이후 분석 단계에서 불필요한 컬럼을 미리 식별하여 데이터를 정리하는 작업을 진행합니다. \n",
    "몇몇 지역을 나타내는 컬럼의 데이터 분포를 살펴보고, 꼭 필요한 City 컬럼만 남기고 삭제하는 작업을 진행합니다. "
   ]
  },
  {
   "cell_type": "code",
   "execution_count": 7,
   "metadata": {},
   "outputs": [
    {
     "name": "stdout",
     "output_type": "stream",
     "text": [
      "+-------------+-------+\n",
      "|      country|  count|\n",
      "+-------------+-------+\n",
      "|United States|6770255|\n",
      "+-------------+-------+\n",
      "\n",
      "+-------+-------+\n",
      "| region|  count|\n",
      "+-------+-------+\n",
      "|  South|2000781|\n",
      "|   East|1691507|\n",
      "|Central|1679411|\n",
      "|   West|1398556|\n",
      "+-------+-------+\n",
      "\n",
      "+----------+------+\n",
      "|     state| count|\n",
      "+----------+------+\n",
      "|   Florida|846319|\n",
      "|  New York|818865|\n",
      "|      Ohio|590644|\n",
      "|  Virginia|564405|\n",
      "|     Texas|537837|\n",
      "|California|537710|\n",
      "|  Illinois|537641|\n",
      "|    Kansas|309009|\n",
      "|  Kentucky|308947|\n",
      "|  Colorado|295651|\n",
      "+----------+------+\n",
      "only showing top 10 rows\n",
      "\n",
      "+-------------+------+\n",
      "|         city| count|\n",
      "+-------------+------+\n",
      "|     Elmhurst|537479|\n",
      "|San Francisco|537249|\n",
      "|New York City|536476|\n",
      "|  Garden City|309004|\n",
      "|    Henderson|308921|\n",
      "|       Denver|295609|\n",
      "|       Toledo|295345|\n",
      "|     Columbus|295223|\n",
      "|   Chesapeake|295053|\n",
      "|      Detroit|294700|\n",
      "+-------------+------+\n",
      "only showing top 10 rows\n",
      "\n",
      "+-----------+------+\n",
      "|postal_code| count|\n",
      "+-----------+------+\n",
      "|      60126|537479|\n",
      "|      94122|537148|\n",
      "|      10035|536304|\n",
      "|      67846|309004|\n",
      "|      42420|308920|\n",
      "|      80219|295609|\n",
      "|      43615|295345|\n",
      "|      43229|295191|\n",
      "|      23320|295053|\n",
      "|      48205|294678|\n",
      "+-----------+------+\n",
      "only showing top 10 rows"
     ]
    }
   ],
   "source": [
    "order.groupBy(\"country\").count().sort(\"count\", ascending=False).show(10)\n",
    "order.groupBy(\"region\").count().sort(\"count\", ascending=False).show(10)\n",
    "order.groupBy(\"state\").count().sort(\"count\", ascending=False).show(10)\n",
    "order.groupBy(\"city\").count().sort(\"count\", ascending=False).show(10)\n",
    "order.groupBy(\"postal_code\").count().sort(\"count\", ascending=False).show(10)"
   ]
  },
  {
   "cell_type": "markdown",
   "metadata": {},
   "source": [
    "지역을 나타내는 컬럼인 country, region, state 컬럼 보다 주로 city 관련 컬럼의 활용도가 높다고 판단되고, postal_code는 city와 중복되므로, country, region, state, postal_code 컬럼은 삭제합니다. \n",
    "그리고 이후 member 테이블의 city 컬럼과 구분하기 위해서 컬럼 명칭을 order_city로 변경합니다. "
   ]
  },
  {
   "cell_type": "code",
   "execution_count": 8,
   "metadata": {},
   "outputs": [
    {
     "name": "stdout",
     "output_type": "stream",
     "text": [
      "root\n",
      " |-- member_id: string (nullable = true)\n",
      " |-- order_date: string (nullable = true)\n",
      " |-- order_time: string (nullable = true)\n",
      " |-- shipping_date: string (nullable = true)\n",
      " |-- order_status: string (nullable = true)\n",
      " |-- country: string (nullable = true)\n",
      " |-- total_price: long (nullable = true)\n",
      " |-- city: string (nullable = true)\n",
      " |-- state: string (nullable = true)\n",
      " |-- postal_code: long (nullable = true)\n",
      " |-- region: string (nullable = true)\n",
      " |-- order_id: string (nullable = true)\n",
      "\n",
      "root\n",
      " |-- member_id: string (nullable = true)\n",
      " |-- order_date: string (nullable = true)\n",
      " |-- order_time: string (nullable = true)\n",
      " |-- shipping_date: string (nullable = true)\n",
      " |-- order_status: string (nullable = true)\n",
      " |-- total_price: long (nullable = true)\n",
      " |-- order_city: string (nullable = true)\n",
      " |-- order_id: string (nullable = true)"
     ]
    }
   ],
   "source": [
    "order.printSchema()\n",
    "order = order.drop(\"country\", \"region\", \"state\", \"postal_code\")\n",
    "order = order.withColumnRenamed(\"city\", \"order_city\")\n",
    "order.printSchema()"
   ]
  },
  {
   "cell_type": "markdown",
   "metadata": {},
   "source": [
    "회원별 주문 현황을 살펴보기 위해서 member 테이블을 추가로 로딩하여 order 테이블과 조인하여 member_order 테이블을 생성합니다."
   ]
  },
  {
   "cell_type": "code",
   "execution_count": 9,
   "metadata": {},
   "outputs": [
    {
     "name": "stdout",
     "output_type": "stream",
     "text": [
      "Count(distinct):  793\n",
      "root\n",
      " |-- member_id: string (nullable = true)\n",
      " |-- country: string (nullable = true)\n",
      " |-- login_id: string (nullable = true)\n",
      " |-- gender: string (nullable = true)\n",
      " |-- city: string (nullable = true)\n",
      " |-- state: string (nullable = true)\n",
      " |-- postal_code: long (nullable = true)\n",
      " |-- region: string (nullable = true)\n",
      " |-- last_login_ymdt: long (nullable = true)\n",
      " |-- membership_level: string (nullable = true)\n",
      " |-- login_password: string (nullable = true)\n",
      " |-- name: string (nullable = true)\n",
      " |-- age: long (nullable = true)\n",
      " |-- reg_ymdt: long (nullable = true)\n",
      "\n",
      "+---------+-------------+--------+------+-----------+----------+-----------+-------+---------------+----------------+--------------------+-------------+---+--------------+\n",
      "|member_id|      country|login_id|gender|       city|     state|postal_code| region|last_login_ymdt|membership_level|      login_password|         name|age|      reg_ymdt|\n",
      "+---------+-------------+--------+------+-----------+----------+-----------+-------+---------------+----------------+--------------------+-------------+---+--------------+\n",
      "| TT-21070|United States|TT-21070|     M|      Akron|      Ohio|      44312|   East| 20171207101839|                |\\xab5ad4d53558f92...|  Ted Trevino| 43|20140511164751|\n",
      "| AT-10435|United States|AT-10435|     M|      Akron|      Ohio|      44312|   East| 20171210014401|                |\\xd68e92c5c2d1a55...|  Alyssa Tate| 24|20140907045314|\n",
      "| DR-12940|United States|DR-12940|     M|Albuquerque|New Mexico|      87105|   West| 20171112153133|                |\\x6eeac9a42b92520...|Daniel Raglin| 33|20140201081131|\n",
      "| FC-14335|United States|FC-14335|     M|     Austin|     Texas|      78745|Central| 20170705145659|                |\\x17f7fe5f5edb5b5...|   Fred Chung| 55|20140902092713|\n",
      "| RC-19825|United States|RC-19825|     F|     Austin|     Texas|      78745|Central| 20161226185739|                |\\xf1b8e97c4f4965e...|  Roy Collins| 33|20141009040049|\n",
      "+---------+-------------+--------+------+-----------+----------+-----------+-------+---------------+----------------+--------------------+-------------+---+--------------+\n",
      "only showing top 5 rows"
     ]
    }
   ],
   "source": [
    "member = glueContext.create_dynamic_frame.from_catalog(database=sourceDatabase, table_name=\"member\").toDF()\n",
    "#member.select(\"member_id\").distinct().show() - 특정 컬럼으로 distinct\n",
    "print \"Count(distinct): \", member.distinct().count()\n",
    "member.printSchema()\n",
    "member.show(5)"
   ]
  },
  {
   "cell_type": "markdown",
   "metadata": {},
   "source": [
    "State와 City 단위로 회원 현황을 간단히 살펴보자"
   ]
  },
  {
   "cell_type": "code",
   "execution_count": 10,
   "metadata": {},
   "outputs": [
    {
     "name": "stdout",
     "output_type": "stream",
     "text": [
      "+------------+-------------+-----+\n",
      "|       state|         city|count|\n",
      "+------------+-------------+-----+\n",
      "|  California|San Francisco|   64|\n",
      "|    New York|New York City|   61|\n",
      "|  California|  Los Angeles|   59|\n",
      "|  Washington|      Seattle|   51|\n",
      "|       Texas|      Houston|   31|\n",
      "|    Illinois|      Chicago|   27|\n",
      "|Pennsylvania| Philadelphia|   21|\n",
      "|       Texas|       Dallas|   15|\n",
      "|      Oregon|     Portland|   14|\n",
      "|        Ohio|     Columbus|   11|\n",
      "+------------+-------------+-----+\n",
      "only showing top 10 rows"
     ]
    }
   ],
   "source": [
    "member.groupBy(\"state\", \"city\").count().sort(\"count\", ascending=False).show(10)"
   ]
  },
  {
   "cell_type": "markdown",
   "metadata": {},
   "source": [
    "주문 내역을 회원 정보 기반으로 분석하기 위해서, order 테이블과 member 테이블을 조인하여 member_order 테이블을 만듭니다. "
   ]
  },
  {
   "cell_type": "code",
   "execution_count": 11,
   "metadata": {},
   "outputs": [
    {
     "name": "stdout",
     "output_type": "stream",
     "text": [
      "root\n",
      " |-- member_id: string (nullable = true)\n",
      " |-- country: string (nullable = true)\n",
      " |-- login_id: string (nullable = true)\n",
      " |-- gender: string (nullable = true)\n",
      " |-- city: string (nullable = true)\n",
      " |-- state: string (nullable = true)\n",
      " |-- postal_code: long (nullable = true)\n",
      " |-- region: string (nullable = true)\n",
      " |-- last_login_ymdt: long (nullable = true)\n",
      " |-- membership_level: string (nullable = true)\n",
      " |-- login_password: string (nullable = true)\n",
      " |-- name: string (nullable = true)\n",
      " |-- age: long (nullable = true)\n",
      " |-- reg_ymdt: long (nullable = true)\n",
      " |-- order_date: string (nullable = true)\n",
      " |-- order_time: string (nullable = true)\n",
      " |-- shipping_date: string (nullable = true)\n",
      " |-- order_status: string (nullable = true)\n",
      " |-- total_price: long (nullable = true)\n",
      " |-- order_city: string (nullable = true)\n",
      " |-- order_id: string (nullable = true)"
     ]
    }
   ],
   "source": [
    "member_order = member.join(order, \"member_id\")\n",
    "member_order.printSchema()"
   ]
  },
  {
   "cell_type": "markdown",
   "metadata": {},
   "source": [
    "회원별 구매 횟수 / 구매 금액 / 나이별, 성별별 구매 금액 등을 계산해서 확인해봅니다. \n",
    "먼저 구매 횟수가 가장 많은 회원을 살펴봅니다."
   ]
  },
  {
   "cell_type": "code",
   "execution_count": 12,
   "metadata": {},
   "outputs": [
    {
     "name": "stdout",
     "output_type": "stream",
     "text": [
      "+---------+------+\n",
      "|member_id| count|\n",
      "+---------+------+\n",
      "| VF-21715|537481|\n",
      "| AA-10315|537097|\n",
      "| BT-11395|309007|\n",
      "| SB-20290|308915|\n",
      "| KT-16480|295607|\n",
      "| JS-15880|295340|\n",
      "| RC-19960|295162|\n",
      "| CK-12325|295050|\n",
      "| HW-14935|294677|\n",
      "| JH-15910|294300|\n",
      "+---------+------+\n",
      "only showing top 10 rows"
     ]
    }
   ],
   "source": [
    "member_order_total = member_order.groupBy(\"member_id\").count().sort(\"count\", ascending=False)\n",
    "member_order_total.show(10)"
   ]
  },
  {
   "cell_type": "markdown",
   "metadata": {},
   "source": [
    "고객의 나이에 따른 구매 패턴을 살펴보기 위해서 20대 고객의 주문 현황을 살펴봅니다. 특히 눈에 띄는 연령이 있는지 살펴봅니다. "
   ]
  },
  {
   "cell_type": "code",
   "execution_count": 13,
   "metadata": {},
   "outputs": [
    {
     "name": "stdout",
     "output_type": "stream",
     "text": [
      "+---+----------------+\n",
      "|age|sum(total_price)|\n",
      "+---+----------------+\n",
      "| 20|        70795614|\n",
      "| 21|        70775181|\n",
      "| 22|           35759|\n",
      "| 23|           22598|\n",
      "| 24|        70578067|\n",
      "| 25|           14573|\n",
      "| 26|           23684|\n",
      "| 27|           25835|\n",
      "| 28|           16736|\n",
      "| 29|           20889|\n",
      "+---+----------------+"
     ]
    }
   ],
   "source": [
    "#member_order.filter(member_order.age.between(20, 29)).groupBy(\"age\").sum(\"total_price\").sort(\"sum(total_price)\", ascending=False).show()\n",
    "member_order.filter(member_order.age.between(20, 29)).groupBy(\"age\").sum(\"total_price\").sort(\"age\").show()"
   ]
  },
  {
   "cell_type": "markdown",
   "metadata": {},
   "source": [
    "고객의 나이뿐 아니라 성별에 따른 특이점을 찾기 위해서 성별을 분류 항목에 추가하였습니다. "
   ]
  },
  {
   "cell_type": "code",
   "execution_count": 14,
   "metadata": {},
   "outputs": [
    {
     "name": "stdout",
     "output_type": "stream",
     "text": [
      "+---+--------+--------+\n",
      "|age|       F|       M|\n",
      "+---+--------+--------+\n",
      "| 20|70792490|    3124|\n",
      "| 21|   22134|70753047|\n",
      "| 22|   16818|   18941|\n",
      "| 23|   12389|   10209|\n",
      "| 24|70563836|   14231|\n",
      "| 25|    8528|    6045|\n",
      "| 26|   17819|    5865|\n",
      "| 27|   15316|   10519|\n",
      "| 28|    6457|   10279|\n",
      "| 29|   17144|    3745|\n",
      "| 30|   12332|   11051|\n",
      "| 31|   13240|71059245|\n",
      "| 32|77491817|   10367|\n",
      "| 33|   29039|   19515|\n",
      "| 34|77250659|81536777|\n",
      "| 35|    8846|    5238|\n",
      "| 36|    5708|    7523|\n",
      "| 37|    9632|   12686|\n",
      "| 38|    7960|   32160|\n",
      "| 39|   10081|73767298|\n",
      "+---+--------+--------+\n",
      "only showing top 20 rows"
     ]
    }
   ],
   "source": [
    "member_order.groupBy(\"age\").pivot(\"gender\").sum(\"total_price\").sort(\"age\").show(20)"
   ]
  },
  {
   "cell_type": "markdown",
   "metadata": {},
   "source": [
    "이후 분석에서 주문별 상세 주문 내역을 활용하기 위해서 필요한 모든 테이블을 로딩하여, order 테이블과 조인하여 order_detali 테이블을 만듭니다. "
   ]
  },
  {
   "cell_type": "code",
   "execution_count": 15,
   "metadata": {},
   "outputs": [
    {
     "name": "stdout",
     "output_type": "stream",
     "text": [
      "Count:  22573388\n",
      "root\n",
      " |-- item_count: long (nullable = true)\n",
      " |-- item_id: string (nullable = true)\n",
      " |-- item_price: long (nullable = true)\n",
      " |-- order_id: string (nullable = true)"
     ]
    }
   ],
   "source": [
    "order_item = glueContext.create_dynamic_frame.from_catalog(database=sourceDatabase, table_name=\"order_item\").toDF()\n",
    "print \"Count: \", order_item.count()\n",
    "order_item.printSchema()"
   ]
  },
  {
   "cell_type": "code",
   "execution_count": 16,
   "metadata": {},
   "outputs": [
    {
     "name": "stdout",
     "output_type": "stream",
     "text": [
      "Count:  3660\n",
      "root\n",
      " |-- item_id: string (nullable = true)\n",
      " |-- price: long (nullable = true)\n",
      " |-- name: string (nullable = true)\n",
      " |-- description: string (nullable = true)\n",
      " |-- reg_ymdt: long (nullable = true)\n",
      " |-- category_id: long (nullable = true)\n",
      "\n",
      "root\n",
      " |-- item_id: string (nullable = true)\n",
      " |-- price: long (nullable = true)\n",
      " |-- item_name: string (nullable = true)\n",
      " |-- description: string (nullable = true)\n",
      " |-- reg_ymdt: long (nullable = true)\n",
      " |-- category_id: long (nullable = true)"
     ]
    }
   ],
   "source": [
    "item = glueContext.create_dynamic_frame.from_catalog(database=sourceDatabase, table_name=\"item\").toDF()\n",
    "item_category = glueContext.create_dynamic_frame.from_catalog(database=sourceDatabase, table_name=\"item_category\").toDF()\n",
    "print \"Count: \", item.count()\n",
    "item.printSchema()\n",
    "item = item.withColumnRenamed(\"name\", \"item_name\")\n",
    "item.printSchema()"
   ]
  },
  {
   "cell_type": "code",
   "execution_count": 17,
   "metadata": {},
   "outputs": [
    {
     "name": "stdout",
     "output_type": "stream",
     "text": [
      "Count:  27088076\n",
      "root\n",
      " |-- member_id: string (nullable = true)\n",
      " |-- country: string (nullable = true)\n",
      " |-- login_id: string (nullable = true)\n",
      " |-- gender: string (nullable = true)\n",
      " |-- city: string (nullable = true)\n",
      " |-- state: string (nullable = true)\n",
      " |-- postal_code: long (nullable = true)\n",
      " |-- region: string (nullable = true)\n",
      " |-- last_login_ymdt: long (nullable = true)\n",
      " |-- membership_level: string (nullable = true)\n",
      " |-- login_password: string (nullable = true)\n",
      " |-- name: string (nullable = true)\n",
      " |-- age: long (nullable = true)\n",
      " |-- reg_ymdt: long (nullable = true)\n",
      " |-- order_id: string (nullable = true)\n",
      " |-- order_date: string (nullable = true)\n",
      " |-- order_time: string (nullable = true)\n",
      " |-- shipping_date: string (nullable = true)\n",
      " |-- order_status: string (nullable = true)\n",
      " |-- total_price: long (nullable = true)\n",
      " |-- order_city: string (nullable = true)\n",
      " |-- item_id: string (nullable = true)\n",
      " |-- item_count: long (nullable = true)\n",
      " |-- item_price: long (nullable = true)\n",
      " |-- category_id: long (nullable = true)\n",
      " |-- price: long (nullable = true)\n",
      " |-- item_name: string (nullable = true)\n",
      " |-- description: string (nullable = true)\n",
      " |-- reg_ymdt: long (nullable = true)\n",
      " |-- category_name: string (nullable = true)\n",
      " |-- parent_category_name: string (nullable = true)"
     ]
    }
   ],
   "source": [
    "#order_detail = order.join(order_item, \"order_id\")\n",
    "order_detail = member.join(order.join(order_item.join(item.join(item_category, \"category_id\"), \"item_id\"), \"order_id\"), \"member_id\")\n",
    "print \"Count: \", order_detail.count()\n",
    "order_detail.printSchema()\n",
    "\n"
   ]
  },
  {
   "cell_type": "markdown",
   "metadata": {},
   "source": [
    "이후 분석 단계에서 불필요한 컬럼은 미리 삭제하여, 불필요한 저장 공간이나 프로세싱을 방지합니다. \n",
    "회원 정보중에 일부 보안상의 이슈가 될 수 있는 항목은 삭제합니다. "
   ]
  },
  {
   "cell_type": "code",
   "execution_count": 18,
   "metadata": {},
   "outputs": [
    {
     "name": "stdout",
     "output_type": "stream",
     "text": [
      "root\n",
      " |-- member_id: string (nullable = true)\n",
      " |-- gender: string (nullable = true)\n",
      " |-- city: string (nullable = true)\n",
      " |-- state: string (nullable = true)\n",
      " |-- age: long (nullable = true)\n",
      " |-- order_date: string (nullable = true)\n",
      " |-- order_status: string (nullable = true)\n",
      " |-- total_price: long (nullable = true)\n",
      " |-- item_count: long (nullable = true)\n",
      " |-- item_price: long (nullable = true)\n",
      " |-- item_name: string (nullable = true)\n",
      " |-- category_name: string (nullable = true)"
     ]
    }
   ],
   "source": [
    "order_detail = order_detail.drop(\"login_id\", \"membership_level\",\"postal_code\", \"region\", \"name\", \"last_login_ymdt\", \"login_password\", \"reg_ymdt\", \"country\")\n",
    "order_detail = order_detail.drop(\"order_id\", \"order_time\", \"shipping_date\", \"order_city\", \"price\", \"description\", \"parent_category_name\", \"item_id\", \"category_id\")\n",
    "order_detail.printSchema()\n"
   ]
  },
  {
   "cell_type": "markdown",
   "metadata": {},
   "source": [
    "### Glue DynamicFrame을 활용하여 S3에 데이터 저장하기\n",
    "앞쪽에서 Dataframe을 통해서 데이터 정리 작업과 Join을 완료한 데이터 파일을 별도의 S3 버킷에 저장합니다.\n",
    "(DataFrame으로 변경한 데이터는 DynamicFrame로 변경하는 작업이 추가됩니다.)\n",
    "저장된 데이터를 기반으로 ad-hoc 쿼리와 분석을 수행하도록 합니다. "
   ]
  },
  {
   "cell_type": "code",
   "execution_count": 19,
   "metadata": {},
   "outputs": [],
   "source": [
    "from awsglue.dynamicframe import DynamicFrame"
   ]
  },
  {
   "cell_type": "markdown",
   "metadata": {},
   "source": [
    "앞에서 지정한 S3 버킷에 변환작업을 마친 데이터를 저장합니다. 저장 파일 format과 파티션 키를 정의 할 수 있습니다. \n",
    "* member_order\n",
    "* oredre_detail"
   ]
  },
  {
   "cell_type": "code",
   "execution_count": 20,
   "metadata": {},
   "outputs": [],
   "source": [
    "order_detail_dyf = DynamicFrame.fromDF(order_detail, glueContext, 'order_detail_dyf')\n",
    "member_order_total = DynamicFrame.fromDF(member_order, glueContext, 'member_order_total')\n"
   ]
  },
  {
   "cell_type": "code",
   "execution_count": 21,
   "metadata": {},
   "outputs": [],
   "source": [
    "# DynamicFrame으로 변경한 데이터를 S3에 저장, 데이터 쿼리 유형에 맞춰 Partition Key를 추가 가능 \n",
    "datasink0 = glueContext.write_dynamic_frame.from_options(frame = order_detail_dyf, connection_type = \"s3\", connection_options = {\"path\": targetS3Bucket + '/e-commerce-analytics/order_detail'}, format = \"parquet\", transformation_ctx = \"datasink0\")\n",
    "#datasink0 = glueContext.write_dynamic_frame.from_options(frame = order_detail_dyf, connection_type = \"s3\", connection_options = {\"path\": targetS3Bucket + '/e-commerce-analytics/order_detail', \"partitionKeys\": \"member_id\"}, format = \"parquet\", transformation_ctx = \"datasink0\")\n",
    "datasink1 = glueContext.write_dynamic_frame.from_options(frame = member_order_total, connection_type = \"s3\", connection_options = {\"path\": targetS3Bucket + '/e-commerce-analytics/member_order'}, format = \"parquet\", transformation_ctx = \"datasink1\")\n"
   ]
  },
  {
   "cell_type": "code",
   "execution_count": 22,
   "metadata": {},
   "outputs": [],
   "source": [
    "# dataframe을 직접 S3에 write 각각 Parquet 형식과 CSV 형식으로 \n",
    "#order_detail.repartition(1).write.parquet(\"s3://analytics-data-seung/e-commerce-analytics/order_detail_parquet/\", mode=\"overwrite\")\n",
    "#order_detail.repartition(1).write.csv(\"s3://analytics-data-seung/e-commerce-analytics/order_detail_csv/\", mode=\"append\")\n"
   ]
  },
  {
   "cell_type": "markdown",
   "metadata": {},
   "source": [
    "추가적으로 필요한 데이터를 모두 DynamicFrame으로 변환하여, Parquet 파일 형식으로 저장합니다. \n",
    "* order\n",
    "* order_item\n",
    "* member\n",
    "* item\n",
    "* item_category"
   ]
  },
  {
   "cell_type": "markdown",
   "metadata": {},
   "source": [
    "앞에서 로딩한여 DataFrame으로 변경하여 사용했던 테이블은 다시 DynamicFrame으로 변경하여 저장합니다."
   ]
  },
  {
   "cell_type": "code",
   "execution_count": 23,
   "metadata": {},
   "outputs": [],
   "source": [
    "order_dyf = DynamicFrame.fromDF(order, glueContext, 'order_dyf')\n",
    "order_item_dyf = DynamicFrame.fromDF(order_item, glueContext, 'order_item_dyf')\n",
    "member_dyf = DynamicFrame.fromDF(member, glueContext, 'member_dyf')\n",
    "item_dyf = DynamicFrame.fromDF(item, glueContext, 'item_dyf')\n",
    "item_category_dyf = DynamicFrame.fromDF(item_category, glueContext, 'item_category_dyf')"
   ]
  },
  {
   "cell_type": "code",
   "execution_count": 24,
   "metadata": {},
   "outputs": [],
   "source": [
    "datasink2 = glueContext.write_dynamic_frame.from_options(frame = order_dyf, connection_type = \"s3\", connection_options = {\"path\": targetS3Bucket + '/e-commerce-analytics/order'}, format = \"parquet\", transformation_ctx = \"datasink2\")\n",
    "datasink3 = glueContext.write_dynamic_frame.from_options(frame = order_item_dyf, connection_type = \"s3\", connection_options = {\"path\": targetS3Bucket + '/e-commerce-analytics/order_item'}, format = \"parquet\", transformation_ctx = \"datasink3\")\n",
    "datasink4 = glueContext.write_dynamic_frame.from_options(frame = member_dyf, connection_type = \"s3\", connection_options = {\"path\": targetS3Bucket + '/e-commerce-analytics/member'}, format = \"parquet\", transformation_ctx = \"datasink4\")\n",
    "datasink5 = glueContext.write_dynamic_frame.from_options(frame = item_dyf, connection_type = \"s3\", connection_options = {\"path\": targetS3Bucket + '/e-commerce-analytics/item'}, format = \"parquet\", transformation_ctx = \"datasink5\")\n",
    "datasink6 = glueContext.write_dynamic_frame.from_options(frame = item_category_dyf, connection_type = \"s3\", connection_options = {\"path\": targetS3Bucket + '/e-commerce-analytics/item_category'}, format = \"parquet\", transformation_ctx = \"datasink6\")"
   ]
  },
  {
   "cell_type": "markdown",
   "metadata": {},
   "source": [
    "여기까지 완료하면 우리가 분석에 사용할 e-commerce 관련된 OLTP 성격의 데이터를 모두 S3에 저장하였고, 또한 데이터 탐색과 변환을 통해 만들어진 몇몇 테이블도 S3에 저장하였습니다.\n",
    "이후 다시 Lab을 따라서 다음 단계를 진행합니다. "
   ]
  }
 ],
 "metadata": {
  "kernelspec": {
   "display_name": "Sparkmagic (PySpark)",
   "language": "",
   "name": "pysparkkernel"
  },
  "language_info": {
   "codemirror_mode": {
    "name": "python",
    "version": 2
   },
   "mimetype": "text/x-python",
   "name": "pyspark",
   "pygments_lexer": "python2"
  }
 },
 "nbformat": 4,
 "nbformat_minor": 2
}
